{
 "cells": [
  {
   "cell_type": "code",
   "execution_count": 1,
   "id": "bbf3217d",
   "metadata": {},
   "outputs": [],
   "source": [
    "import numpy as np\n",
    "from imutils import *"
   ]
  },
  {
   "cell_type": "code",
   "execution_count": 9,
   "id": "33312d71",
   "metadata": {},
   "outputs": [],
   "source": [
    "from utils import *"
   ]
  },
  {
   "cell_type": "code",
   "execution_count": 1,
   "id": "83fcd2e1",
   "metadata": {},
   "outputs": [
    {
     "name": "stdout",
     "output_type": "stream",
     "text": [
      "Collecting imutils\n",
      "  Downloading imutils-0.5.4.tar.gz (17 kB)\n",
      "  Preparing metadata (setup.py): started\n",
      "  Preparing metadata (setup.py): finished with status 'done'\n",
      "Using legacy 'setup.py install' for imutils, since package 'wheel' is not installed.\n",
      "Installing collected packages: imutils\n",
      "  Running setup.py install for imutils: started\n",
      "  Running setup.py install for imutils: finished with status 'done'\n",
      "Successfully installed imutils-0.5.4\n",
      "Note: you may need to restart the kernel to use updated packages.\n"
     ]
    }
   ],
   "source": [
    "pip install imutils"
   ]
  },
  {
   "cell_type": "code",
   "execution_count": 2,
   "id": "a5cc454f",
   "metadata": {},
   "outputs": [],
   "source": [
    "#Do not modify\n",
    "num_states = 6\n",
    "num_action = 2"
   ]
  },
  {
   "cell_type": "code",
   "execution_count": 3,
   "id": "9d7b5c7d",
   "metadata": {},
   "outputs": [],
   "source": [
    "terminal_left_reward = 100\n",
    "terminal_right_reward = 40\n",
    "each_step_reward = 0\n",
    "\n",
    "#Discount factor\n",
    "gamma = 0.5\n",
    "\n",
    "#probability of going in the wrong direction\n",
    "misstep_prob = 0.4"
   ]
  },
  {
   "cell_type": "code",
   "execution_count": 4,
   "id": "93189c72",
   "metadata": {},
   "outputs": [
    {
     "ename": "NameError",
     "evalue": "name 'generate_visualization' is not defined",
     "output_type": "error",
     "traceback": [
      "\u001b[1;31m---------------------------------------------------------------------------\u001b[0m",
      "\u001b[1;31mNameError\u001b[0m                                 Traceback (most recent call last)",
      "Input \u001b[1;32mIn [4]\u001b[0m, in \u001b[0;36m<cell line: 1>\u001b[1;34m()\u001b[0m\n\u001b[1;32m----> 1\u001b[0m \u001b[43mgenerate_visualization\u001b[49m(terminal_left_reward, terminal_right_reward, each_step_reward, gamma, misstep_prob)\n",
      "\u001b[1;31mNameError\u001b[0m: name 'generate_visualization' is not defined"
     ]
    }
   ],
   "source": [
    "generate_visualization(terminal_left_reward, terminal_right_reward, each_step_reward, gamma, misstep_prob)"
   ]
  },
  {
   "cell_type": "code",
   "execution_count": 11,
   "id": "dc1f0abf",
   "metadata": {},
   "outputs": [
    {
     "name": "stdout",
     "output_type": "stream",
     "text": [
      "Note: you may need to restart the kernel to use updated packages.\n"
     ]
    },
    {
     "name": "stderr",
     "output_type": "stream",
     "text": [
      "ERROR: Could not find a version that satisfies the requirement generate_visualization (from versions: none)\n",
      "ERROR: No matching distribution found for generate_visualization\n"
     ]
    }
   ],
   "source": [
    "pip install generate_visualization"
   ]
  },
  {
   "cell_type": "code",
   "execution_count": null,
   "id": "ce24c161",
   "metadata": {},
   "outputs": [],
   "source": []
  }
 ],
 "metadata": {
  "kernelspec": {
   "display_name": "Python 3 (ipykernel)",
   "language": "python",
   "name": "python3"
  },
  "language_info": {
   "codemirror_mode": {
    "name": "ipython",
    "version": 3
   },
   "file_extension": ".py",
   "mimetype": "text/x-python",
   "name": "python",
   "nbconvert_exporter": "python",
   "pygments_lexer": "ipython3",
   "version": "3.10.1"
  }
 },
 "nbformat": 4,
 "nbformat_minor": 5
}

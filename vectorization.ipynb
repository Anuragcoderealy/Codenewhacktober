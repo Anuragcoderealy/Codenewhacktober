{
 "cells": [
  {
   "cell_type": "code",
   "execution_count": 3,
   "id": "d545cd95",
   "metadata": {},
   "outputs": [],
   "source": [
    "import numpy as np"
   ]
  },
  {
   "cell_type": "code",
   "execution_count": 4,
   "id": "0e3ac370",
   "metadata": {
    "scrolled": true
   },
   "outputs": [
    {
     "name": "stdout",
     "output_type": "stream",
     "text": [
      "[1 2 3 4]\n"
     ]
    }
   ],
   "source": [
    "import numpy as np\n",
    "a = np.array([1,2,3,4])\n",
    "print(a)"
   ]
  },
  {
   "cell_type": "code",
   "execution_count": 5,
   "id": "313af82d",
   "metadata": {},
   "outputs": [
    {
     "name": "stdout",
     "output_type": "stream",
     "text": [
      "2499671.6591826114\n",
      "vectorized version:14.178037643432617ms\n",
      "2499671.65918227\n",
      "For loop:5651.964426040649ms\n"
     ]
    }
   ],
   "source": [
    "import time\n",
    "a = np.random.rand(10000000)\n",
    "b = np.random.rand(10000000)\n",
    "\n",
    "tic = time.time()\n",
    "c = np.dot(a,b)\n",
    "toc = time.time()\n",
    "\n",
    "print(c)\n",
    "print(\"vectorized version:\" + str(1000*(toc-tic)) + \"ms\")\n",
    "\n",
    "c=0\n",
    "tic = time.time()\n",
    "for i in range(10000000):\n",
    "    c += a[i]*b[i]\n",
    "toc = time.time()\n",
    "\n",
    "print(c)\n",
    "print(\"For loop:\" + str(1000*(toc-tic)) + \"ms\")"
   ]
  },
  {
   "cell_type": "code",
   "execution_count": 13,
   "id": "04cb0b23",
   "metadata": {},
   "outputs": [
    {
     "name": "stdout",
     "output_type": "stream",
     "text": [
      "[[ 56.    0.    4.4  68. ]\n",
      " [  1.2 104.   52.    8. ]\n",
      " [  1.8 135.   99.    0.9]]\n"
     ]
    }
   ],
   "source": [
    "import numpy as np\n",
    "A = np.array([[56.0,0.0,4.4,68.0],\n",
    "             [1.2,104.0,52.0,8.0],\n",
    "             [1.8,135.0,99.0,0.9]])\n",
    "print(A)"
   ]
  },
  {
   "cell_type": "code",
   "execution_count": 14,
   "id": "7dd01e50",
   "metadata": {},
   "outputs": [
    {
     "name": "stdout",
     "output_type": "stream",
     "text": [
      "[ 59.  239.  155.4  76.9]\n"
     ]
    }
   ],
   "source": [
    "cal = A.sum(axis=0)\n",
    "print(cal)"
   ]
  },
  {
   "cell_type": "code",
   "execution_count": 15,
   "id": "6b13cba2",
   "metadata": {},
   "outputs": [
    {
     "name": "stdout",
     "output_type": "stream",
     "text": [
      "[[94.91525424  0.          2.83140283 88.42652796]\n",
      " [ 2.03389831 43.51464435 33.46203346 10.40312094]\n",
      " [ 3.05084746 56.48535565 63.70656371  1.17035111]]\n"
     ]
    }
   ],
   "source": [
    "percentage = 100*A/(cal.reshape(1,4))\n",
    "print(percentage)"
   ]
  },
  {
   "cell_type": "code",
   "execution_count": 16,
   "id": "03f8f68a",
   "metadata": {},
   "outputs": [
    {
     "name": "stdout",
     "output_type": "stream",
     "text": [
      "[ 0.1854426  -0.59662457  0.85042107 -0.32996593 -1.26316501]\n"
     ]
    }
   ],
   "source": [
    "import numpy as np\n",
    "b=np.random.randn(5)\n",
    "print(b)"
   ]
  },
  {
   "cell_type": "code",
   "execution_count": 17,
   "id": "42b8cffc",
   "metadata": {},
   "outputs": [
    {
     "name": "stdout",
     "output_type": "stream",
     "text": [
      "(5,)\n"
     ]
    }
   ],
   "source": [
    "print(b.shape)"
   ]
  },
  {
   "cell_type": "code",
   "execution_count": 18,
   "id": "41f80c34",
   "metadata": {},
   "outputs": [
    {
     "name": "stdout",
     "output_type": "stream",
     "text": [
      "[ 0.1854426  -0.59662457  0.85042107 -0.32996593 -1.26316501]\n"
     ]
    }
   ],
   "source": [
    "print(b.T)"
   ]
  },
  {
   "cell_type": "code",
   "execution_count": 19,
   "id": "71df1726",
   "metadata": {},
   "outputs": [
    {
     "name": "stdout",
     "output_type": "stream",
     "text": [
      "2.8180291992054722\n"
     ]
    }
   ],
   "source": [
    "print(np.dot(b,b.T))"
   ]
  },
  {
   "cell_type": "code",
   "execution_count": 20,
   "id": "a3fbd1fd",
   "metadata": {},
   "outputs": [
    {
     "name": "stdout",
     "output_type": "stream",
     "text": [
      "[[-0.16553943  0.54756135 -1.63656493]\n",
      " [-0.19810509  1.53375801  0.75580813]\n",
      " [ 0.44354249 -0.28192664  0.54125571]\n",
      " [ 1.05354001 -0.56466183  0.72856078]\n",
      " [-1.7869188  -1.33414332  0.17241733]]\n"
     ]
    }
   ],
   "source": [
    "b=np.random.randn(5,3)\n",
    "print(b)"
   ]
  },
  {
   "cell_type": "code",
   "execution_count": 21,
   "id": "eda96813",
   "metadata": {},
   "outputs": [
    {
     "name": "stdout",
     "output_type": "stream",
     "text": [
      "[[-0.16553943 -0.19810509  0.44354249  1.05354001 -1.7869188 ]\n",
      " [ 0.54756135  1.53375801 -0.28192664 -0.56466183 -1.33414332]\n",
      " [-1.63656493  0.75580813  0.54125571  0.72856078  0.17241733]]\n"
     ]
    }
   ],
   "source": [
    "print(b.T)"
   ]
  },
  {
   "cell_type": "code",
   "execution_count": 22,
   "id": "40e17f44",
   "metadata": {},
   "outputs": [
    {
     "name": "stdout",
     "output_type": "stream",
     "text": [
      "[[ 3.00557152 -0.36430827 -1.11359601 -1.67592643 -0.71689195]\n",
      " [-0.36430827  2.9629052  -0.1111898  -0.52411408 -1.56194087]\n",
      " [-1.11359601 -0.1111898   0.56917031  1.02082065 -0.32312202]\n",
      " [-1.67592643 -0.52411408  1.02082065  1.95959035 -1.00363415]\n",
      " [-0.71689195 -1.56194087 -0.32312202 -1.00363415  5.00274492]]\n"
     ]
    }
   ],
   "source": [
    "print(np.dot(b,b.T))"
   ]
  },
  {
   "cell_type": "code",
   "execution_count": 23,
   "id": "caf28188",
   "metadata": {},
   "outputs": [
    {
     "name": "stdout",
     "output_type": "stream",
     "text": [
      "[[[-0.51597166 -0.6619442 ]\n",
      "  [ 1.32339013 -0.43139754]]\n",
      "\n",
      " [[-0.46209406 -0.3885253 ]\n",
      "  [ 1.00133797 -1.71060658]]]\n"
     ]
    }
   ],
   "source": [
    "import numpy as np\n",
    "c=np.random.randn(8,1)\n",
    "print(c.reshape(2,2,2))"
   ]
  },
  {
   "cell_type": "code",
   "execution_count": 24,
   "id": "3dbd7480",
   "metadata": {},
   "outputs": [
    {
     "name": "stdout",
     "output_type": "stream",
     "text": [
      "[[-0.03596923  0.00370235  0.38008199]\n",
      " [ 0.4937325   0.06447588 -0.12893519]\n",
      " [-0.06898664 -0.03252297 -0.27952614]\n",
      " [ 0.16184261 -0.10058836 -0.11148195]]\n"
     ]
    }
   ],
   "source": [
    "import numpy as np\n",
    "a=np.random.randn(4,3) # a.shape = (3, 3)a.shape=(3,3)\n",
    "\n",
    "b=np.random.randn(1,3) # b.shape = (2, 1)b.shape=(2,1)\n",
    "\n",
    "c=a*b\n",
    "print(c.reshape(4,3))"
   ]
  },
  {
   "cell_type": "code",
   "execution_count": 25,
   "id": "ee3ea346",
   "metadata": {
    "scrolled": false
   },
   "outputs": [
    {
     "name": "stdout",
     "output_type": "stream",
     "text": [
      "[[4 1]\n",
      " [1 9]]\n"
     ]
    }
   ],
   "source": [
    "import numpy as np\n",
    "a=np.array([[2,1],[1,3]])\n",
    "print(a*a)"
   ]
  },
  {
   "cell_type": "code",
   "execution_count": 26,
   "id": "3d28e9d0",
   "metadata": {
    "scrolled": true
   },
   "outputs": [
    {
     "name": "stdout",
     "output_type": "stream",
     "text": [
      "[3.38118167 2.64791874 1.76297787 3.01772841]\n"
     ]
    }
   ],
   "source": [
    "import numpy as np\n",
    "x = np.random.rand(4, 5)\n",
    "\n",
    "y = np.sum(x, axis=1)\n",
    "print(y)"
   ]
  },
  {
   "cell_type": "code",
   "execution_count": null,
   "id": "8ba4be22",
   "metadata": {},
   "outputs": [],
   "source": [
    "pip install markdown"
   ]
  },
  {
   "cell_type": "code",
   "execution_count": null,
   "id": "ac7e6066",
   "metadata": {},
   "outputs": [],
   "source": [
    " pip install --upgrade pip "
   ]
  },
  {
   "cell_type": "code",
   "execution_count": null,
   "id": "a1afc481",
   "metadata": {},
   "outputs": [],
   "source": []
  },
  {
   "cell_type": "code",
   "execution_count": null,
   "id": "62b44b19",
   "metadata": {},
   "outputs": [],
   "source": []
  }
 ],
 "metadata": {
  "kernelspec": {
   "display_name": "Python 3 (ipykernel)",
   "language": "python",
   "name": "python3"
  },
  "language_info": {
   "codemirror_mode": {
    "name": "ipython",
    "version": 3
   },
   "file_extension": ".py",
   "mimetype": "text/x-python",
   "name": "python",
   "nbconvert_exporter": "python",
   "pygments_lexer": "ipython3",
   "version": "3.10.1"
  },
  "vscode": {
   "interpreter": {
    "hash": "491f2ff4296d0e4692543e2b97866c6a2bf8d110d23521ba5b852915b36b178f"
   }
  }
 },
 "nbformat": 4,
 "nbformat_minor": 5
}
